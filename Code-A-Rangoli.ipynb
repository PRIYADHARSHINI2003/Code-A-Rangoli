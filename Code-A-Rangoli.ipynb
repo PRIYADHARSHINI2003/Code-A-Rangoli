{
 "cells": [
  {
   "cell_type": "code",
   "execution_count": 3,
   "id": "cb157822",
   "metadata": {},
   "outputs": [],
   "source": [
    "import turtle                                                       # importing the turtle package\n",
    "import random                                                       # importing the random package\n",
    "import math                                                         # importing the math package\n",
    "\n",
    "screen = turtle.Screen()                                            # graphics windows defined as screen\n",
    "screen.title('Code-A-Rangoli')                                      \n",
    "screen.tracer(0,0)                                                 \n",
    "turtle.hideturtle()                                                \n",
    "turtle.speed(0)                                                     \n",
    "turtle.up()                                                         \n",
    "\n",
    "m = 5\n",
    "angle = math.pi/2\n",
    "P = []\n",
    "for i in range(m):\n",
    "    p = (400*math.cos(angle),400*math.sin(angle))\n",
    "    P.append(p)\n",
    "    angle += math.pi*2/m\n",
    "for v in P:\n",
    "    turtle.goto(v)                                                  # moving the pointer to position of the vertices\n",
    "    turtle.dot('midnight blue')\n",
    "\n",
    "n = 50000                                                           # number of times the process of point allocation needs to be carried out\n",
    "p = P[0]                                                            # starting from first vertex\n",
    "t = turtle.Turtle()\n",
    "t.up()\n",
    "t.hideturtle()\n",
    "\n",
    "for i in range(n):\n",
    "    t.goto(p)\n",
    "    t.dot(2,'blue violet')\n",
    "    r = P[random.randrange(len(P))]                                \n",
    "    p = ((r[0]+p[0])/2.6,(r[1]+p[1])/2.6)                             \n",
    "    if i % 1000 == 0:                                               \n",
    "        t = turtle.Turtle()                                         \n",
    "        t.up()\n",
    "        t.hideturtle()\n",
    "        screen.update()"
   ]
  },
  {
   "cell_type": "code",
   "execution_count": null,
   "id": "8105de3d",
   "metadata": {},
   "outputs": [],
   "source": []
  }
 ],
 "metadata": {
  "kernelspec": {
   "display_name": "Python 3",
   "language": "python",
   "name": "python3"
  },
  "language_info": {
   "codemirror_mode": {
    "name": "ipython",
    "version": 3
   },
   "file_extension": ".py",
   "mimetype": "text/x-python",
   "name": "python",
   "nbconvert_exporter": "python",
   "pygments_lexer": "ipython3",
   "version": "3.8.8"
  }
 },
 "nbformat": 4,
 "nbformat_minor": 5
}
